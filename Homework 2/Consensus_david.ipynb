{
 "cells": [
  {
   "cell_type": "code",
   "execution_count": 7,
   "id": "caroline-azerbaijan",
   "metadata": {},
   "outputs": [],
   "source": [
    "import pandas as pd\n",
    "import numpy as np\n",
    "from matplotlib import pyplot as plt\n",
    "import pickle"
   ]
  },
  {
   "cell_type": "code",
   "execution_count": 27,
   "id": "recorded-answer",
   "metadata": {},
   "outputs": [],
   "source": [
    "data = pd.read_csv('TCGA-PANCAN-HiSeq-801x20531/data.csv', index_col = 0)\n",
    "#labels = pd.read_csv('TCGA-PANCAN-HiSeq-801x20531/labels.csv')\n",
    "eigenvalues = pickle.load( open( \"eigenvalues_first_800.pkl\", \"rb\" ) )\n",
    "eigenvectors = pickle.load( open( \"eigenvectors_first_800.pkl\", \"rb\" ) )"
   ]
  },
  {
   "cell_type": "code",
   "execution_count": 28,
   "id": "hindu-dancing",
   "metadata": {},
   "outputs": [],
   "source": [
    "mean_arr = np.mean(data, 0)\n",
    "var_arr = np.var(data, 0)\n",
    "df = data.drop(data.columns[np.argwhere(np.array(var_arr == 0)).flatten()], axis = 1)\n",
    "mean_arr = np.mean(df, 0)\n",
    "var_arr = np.var(df, 0)\n",
    "min_var = 2\n",
    "df.drop(df.columns[np.argwhere(np.array(var_arr < min_var)).flatten()], axis = 1, inplace = True)\n",
    "mean_arr = np.mean(df, 0)\n",
    "var_arr = np.var(df, 0)\n",
    "df = (df - mean_arr)/(var_arr ** (1/2))\n",
    "df = np.real(np.array(df@eigenvectors))"
   ]
  },
  {
   "cell_type": "code",
   "execution_count": 30,
   "id": "mighty-voice",
   "metadata": {},
   "outputs": [
    {
     "name": "stdout",
     "output_type": "stream",
     "text": [
      "801\n"
     ]
    }
   ],
   "source": [
    "n = df.shape[0]\n"
   ]
  },
  {
   "cell_type": "code",
   "execution_count": null,
   "id": "premium-queue",
   "metadata": {},
   "outputs": [],
   "source": []
  }
 ],
 "metadata": {
  "kernelspec": {
   "display_name": "Python 3",
   "language": "python",
   "name": "python3"
  },
  "language_info": {
   "codemirror_mode": {
    "name": "ipython",
    "version": 3
   },
   "file_extension": ".py",
   "mimetype": "text/x-python",
   "name": "python",
   "nbconvert_exporter": "python",
   "pygments_lexer": "ipython3",
   "version": "3.8.7"
  }
 },
 "nbformat": 4,
 "nbformat_minor": 5
}
