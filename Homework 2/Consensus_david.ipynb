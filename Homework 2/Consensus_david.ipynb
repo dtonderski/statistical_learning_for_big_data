{
 "cells": [
  {
   "cell_type": "code",
   "execution_count": 7,
   "id": "consistent-housing",
   "metadata": {},
   "outputs": [],
   "source": [
    "import pandas as pd\n",
    "import numpy as np\n",
    "from matplotlib import pyplot as plt\n",
    "import pickle"
   ]
  },
  {
   "cell_type": "code",
   "execution_count": 27,
   "id": "artificial-program",
   "metadata": {},
   "outputs": [],
   "source": [
    "data = pd.read_csv('TCGA-PANCAN-HiSeq-801x20531/data.csv', index_col = 0)\n",
    "#labels = pd.read_csv('TCGA-PANCAN-HiSeq-801x20531/labels.csv')\n",
    "eigenvalues = pickle.load( open( \"eigenvalues_first_800.pkl\", \"rb\" ) )\n",
    "eigenvectors = pickle.load( open( \"eigenvectors_first_800.pkl\", \"rb\" ) )"
   ]
  },
  {
   "cell_type": "code",
   "execution_count": 28,
   "id": "patient-boring",
   "metadata": {},
   "outputs": [],
   "source": [
    "mean_arr = np.mean(data, 0)\n",
    "var_arr = np.var(data, 0)\n",
    "df = data.drop(data.columns[np.argwhere(np.array(var_arr == 0)).flatten()], axis = 1)\n",
    "mean_arr = np.mean(df, 0)\n",
    "var_arr = np.var(df, 0)\n",
    "min_var = 2\n",
    "df.drop(df.columns[np.argwhere(np.array(var_arr < min_var)).flatten()], axis = 1, inplace = True)\n",
    "mean_arr = np.mean(df, 0)\n",
    "var_arr = np.var(df, 0)\n",
    "df = (df - mean_arr)/(var_arr ** (1/2))\n",
    "df = np.real(np.array(df@eigenvectors))\n"
   ]
  },
  {
   "cell_type": "code",
   "execution_count": 104,
   "id": "operating-equity",
   "metadata": {},
   "outputs": [],
   "source": [
    "from sklearn.cluster import KMeans\n",
    "\n",
    "n = df.shape[0]\n",
    "n_subsample_fraction = int(0.8*n)\n",
    "K_max = 10\n",
    "K_array = list(range(2,K_max+1))\n",
    "M = 5\n",
    "for i, K in enumerate(K_array):\n",
    "    M_arr = np.zeros((M,n,n))\n",
    "    J_arr = np.zeros((M,n,n))\n",
    "    for m in range(M):\n",
    "        indices = np.random.choice(np.array(range(n)), n_subsample_fraction, replace = False)\n",
    "        \n",
    "        chosen_samples = np.zeros(n)\n",
    "        chosen_samples[indices] = 1\n",
    "        J_m = np.reshape(chosen_samples, (-1, 1))@np.reshape(chosen_samples, (1, -1))\n",
    "        \n",
    "        current_data = df[indices, :]\n",
    "        km = KMeans(n_clusters=K, random_state=0, n_init = 1).fit(current_data)\n",
    "        labels = km.predict(current_data)\n",
    "        \n",
    "        connectivity = np.zeros((n_subsample_fraction, n_subsample_fraction))\n",
    "        for k in range(K):\n",
    "            samples_with_current_label = labels == k\n",
    "            connectivity += np.reshape(samples_with_current_label, (-1, 1))@np.reshape(samples_with_current_label, (1, -1))\n",
    "        \n",
    "        \n",
    "        M_m = np.zeros((n,n))\n",
    "        M_m[np.argwhere(J_m == 1)[:, 0], np.argwhere(J_m == 1)[:, 1]] = connectivity.flatten()\n",
    "        M_arr[m]\n",
    "        \n",
    "\n",
    "        "
   ]
  },
  {
   "cell_type": "code",
   "execution_count": 73,
   "id": "broken-violence",
   "metadata": {},
   "outputs": [],
   "source": [
    "indices = np.random.choice(np.array(range(n)), n_subsample_fraction, replace = False)\n"
   ]
  },
  {
   "cell_type": "code",
   "execution_count": 125,
   "id": "convertible-musical",
   "metadata": {},
   "outputs": [
    {
     "data": {
      "text/plain": [
       "array([[1., 0., 1.],\n",
       "       [0., 0., 0.],\n",
       "       [1., 0., 1.]])"
      ]
     },
     "execution_count": 125,
     "metadata": {},
     "output_type": "execute_result"
    }
   ],
   "source": [
    "indices = [0,2]\n",
    "a = np.zeros(3)\n",
    "a[indices] = 1\n",
    "np.reshape(a, (-1, 1))@np.reshape(a, (1, -1))"
   ]
  },
  {
   "cell_type": "code",
   "execution_count": 69,
   "id": "golden-density",
   "metadata": {},
   "outputs": [
    {
     "name": "stdout",
     "output_type": "stream",
     "text": [
      "(1, 801)\n"
     ]
    }
   ],
   "source": [
    "print(np.reshape(a, (1, -1)).shape)"
   ]
  },
  {
   "cell_type": "code",
   "execution_count": 72,
   "id": "variable-handling",
   "metadata": {},
   "outputs": [
    {
     "data": {
      "text/plain": [
       "array([[0., 0., 0., ..., 0., 0., 0.],\n",
       "       [0., 1., 0., ..., 0., 1., 1.],\n",
       "       [0., 0., 0., ..., 0., 0., 0.],\n",
       "       ...,\n",
       "       [0., 0., 0., ..., 0., 0., 0.],\n",
       "       [0., 1., 0., ..., 0., 1., 1.],\n",
       "       [0., 1., 0., ..., 0., 1., 1.]])"
      ]
     },
     "execution_count": 72,
     "metadata": {},
     "output_type": "execute_result"
    }
   ],
   "source": [
    "np.reshape(a, (-1, 1))@np.reshape(a, (1, -1))"
   ]
  },
  {
   "cell_type": "code",
   "execution_count": 76,
   "id": "funded-ukraine",
   "metadata": {},
   "outputs": [],
   "source": [
    "current_data = df[indices, :]"
   ]
  },
  {
   "cell_type": "code",
   "execution_count": 77,
   "id": "paperback-protest",
   "metadata": {},
   "outputs": [
    {
     "name": "stdout",
     "output_type": "stream",
     "text": [
      "(640, 800)\n"
     ]
    }
   ],
   "source": [
    "print(current_data.shape)"
   ]
  },
  {
   "cell_type": "code",
   "execution_count": 82,
   "id": "initial-transfer",
   "metadata": {},
   "outputs": [
    {
     "name": "stdout",
     "output_type": "stream",
     "text": [
      "[3 7 5 0 7 9 8 2 7 7 9 4 3 4 5 1 8 3 2 9 6 3 3 3 0 9 3 7 3 8 4 8 1 4 9 9 6\n",
      " 6 6 9 7 4 7 7 9 2 3 4 5 6 1 3 3 4 9 3 1 2 4 3 7 1 1 8 7 8 5 0 9 7 4 9 0 9\n",
      " 7 9 3 6 0 8 9 5 1 5 4 6 0 9 5 1 6 3 8 1 5 1 7 8 2 2 8 9 4 3 3 5 4 5 3 2 2\n",
      " 9 0 7 1 4 3 1 3 1 4 5 4 0 2 0 5 6 5 4 9 8 4 3 9 5 1 2 4 3 9 5 0 1 1 4 3 3\n",
      " 3 3 2 2 9 1 4 5 9 1 2 9 7 6 7 1 8 0 4 2 7 1 8 4 8 2 4 9 7 5 3 4 3 3 7 2 6\n",
      " 9 7 4 3 4 7 8 4 3 1 7 8 8 4 9 1 9 3 4 4 4 6 6 6 2 3 7 7 7 4 2 7 3 9 9 3 9\n",
      " 4 7 3 2 7 5 3 2 9 3 1 2 9 7 7 2 9 8 2 0 3 8 9 5 7 3 3 8 4 4 4 3 4 3 8 2 7\n",
      " 8 4 4 3 8 7 6 1 6 3 8 1 6 6 7 7 4 3 1 3 7 5 7 0 2 1 3 8 7 8 5 3 1 1 3 7 0\n",
      " 2 0 3 9 5 1 4 5 7 3 2 5 3 4 7 3 7 0 3 4 8 3 2 3 9 3 2 3 8 2 9 4 2 4 8 7 4\n",
      " 5 8 6 9 4 2 0 0 2 8 4 8 6 2 2 8 9 7 2 9 7 7 9 2 3 4 3 8 8 4 3 5 9 4 0 7 1\n",
      " 7 6 5 3 1 0 4 3 7 4 8 4 4 0 7 0 9 5 7 8 0 9 2 3 3 0 3 6 4 4 4 4 2 3 7 8 7\n",
      " 3 8 7 6 4 5 4 9 6 6 0 2 9 3 4 3 1 3 4 2 3 9 3 3 9 7 0 0 8 5 2 4 4 1 0 9 3\n",
      " 8 3 4 1 4 6 8 9 6 9 7 9 4 1 6 4 8 6 4 7 9 9 5 4 1 0 5 8 7 3 4 2 4 5 6 8 9\n",
      " 1 3 4 9 0 2 8 9 1 6 3 5 8 1 9 9 8 5 0 3 1 9 6 6 3 4 8 0 4 1 2 4 9 0 0 3 9\n",
      " 7 9 6 3 3 3 4 4 1 4 0 2 9 9 0 7 6 0 3 0 6 6 2 1 9 3 2 3 7 9 8 3 8 4 3 9 7\n",
      " 2 2 4 0 0 1 8 6 3 1 6 1 4 7 3 5 2 3 6 6 2 4 0 7 4 9 4 7 7 5 3 4 4 3 7 6 3\n",
      " 4 1 8 9 3 1 5 4 4 8 1 1 3 3 8 1 7 9 2 6 1 2 1 4 4 2 6 0 9 8 6 0 4 3 7 0 9\n",
      " 7 3 9 4 4 2 6 9 3 6 6]\n"
     ]
    }
   ],
   "source": [
    "print(labels)"
   ]
  },
  {
   "cell_type": "code",
   "execution_count": 86,
   "id": "southwest-electric",
   "metadata": {},
   "outputs": [
    {
     "data": {
      "text/plain": [
       "1444"
      ]
     },
     "execution_count": 86,
     "metadata": {},
     "output_type": "execute_result"
    }
   ],
   "source": [
    "np.sum(np.reshape(samples_with_current_label, (-1, 1))@np.reshape(samples_with_current_label, (1, -1)))"
   ]
  },
  {
   "cell_type": "code",
   "execution_count": 94,
   "id": "rough-brooklyn",
   "metadata": {},
   "outputs": [],
   "source": [
    "a = np.ones((10,10))\n",
    "b = a[:, [1,2,3,4]]\n",
    "b = b[[1,2,3,4], :]"
   ]
  },
  {
   "cell_type": "code",
   "execution_count": 97,
   "id": "split-focus",
   "metadata": {},
   "outputs": [
    {
     "name": "stdout",
     "output_type": "stream",
     "text": [
      "0\n",
      "0\n",
      "[[1. 1. 1. 1. 1. 1. 1. 1. 1. 1.]\n",
      " [1. 1. 1. 1. 1. 1. 1. 1. 1. 1.]\n",
      " [1. 1. 1. 1. 1. 1. 1. 1. 1. 1.]\n",
      " [1. 1. 1. 1. 1. 1. 1. 1. 1. 1.]\n",
      " [1. 1. 1. 1. 1. 1. 1. 1. 1. 1.]\n",
      " [1. 1. 1. 1. 1. 1. 1. 1. 1. 1.]\n",
      " [1. 1. 1. 1. 1. 1. 1. 1. 1. 1.]\n",
      " [1. 1. 1. 1. 1. 1. 1. 1. 1. 1.]\n",
      " [1. 1. 1. 1. 1. 1. 1. 1. 1. 1.]\n",
      " [1. 1. 1. 1. 1. 1. 1. 1. 1. 1.]]\n"
     ]
    }
   ],
   "source": [
    "print(b)\n",
    "b = 0 \n",
    "print(b)\n",
    "print(a)\n",
    "a[]"
   ]
  },
  {
   "cell_type": "code",
   "execution_count": 101,
   "id": "handed-august",
   "metadata": {},
   "outputs": [
    {
     "name": "stdout",
     "output_type": "stream",
     "text": [
      "(409600, 2)\n"
     ]
    }
   ],
   "source": [
    "print(np.argwhere(J_m == 1).shape)"
   ]
  },
  {
   "cell_type": "code",
   "execution_count": 103,
   "id": "imported-jacket",
   "metadata": {},
   "outputs": [
    {
     "name": "stdout",
     "output_type": "stream",
     "text": [
      "[0. 0. 0. ... 0. 0. 0.]\n"
     ]
    }
   ],
   "source": [
    "print(M_m[np.argwhere(J_m == 1)[:, 0], np.argwhere(J_m == 1)[:, 1]])"
   ]
  },
  {
   "cell_type": "code",
   "execution_count": 123,
   "id": "naked-southwest",
   "metadata": {},
   "outputs": [
    {
     "name": "stdout",
     "output_type": "stream",
     "text": [
      "[ 1  2  3  4  5  7  8  9 10 11]\n",
      "[[0. 0. 0. 0. 0. 0. 0. 0. 0. 0.]\n",
      " [0. 1. 0. 0. 0. 0. 0. 1. 0. 0.]\n",
      " [0. 0. 1. 0. 1. 0. 0. 0. 0. 0.]\n",
      " [0. 0. 0. 1. 0. 0. 0. 0. 0. 0.]\n",
      " [0. 0. 1. 0. 1. 0. 0. 0. 0. 0.]\n",
      " [0. 0. 0. 0. 0. 1. 0. 0. 1. 1.]\n",
      " [0. 0. 0. 0. 0. 0. 0. 0. 0. 0.]\n",
      " [0. 1. 0. 0. 0. 0. 0. 1. 0. 0.]\n",
      " [0. 0. 0. 0. 0. 1. 0. 0. 1. 1.]\n",
      " [0. 0. 0. 0. 0. 1. 0. 0. 1. 1.]]\n",
      "[3 1 4 1 0 3 0 0 3 1]\n",
      "[[1. 0. 0. 0. 0. 1. 0. 0. 1. 0.]\n",
      " [0. 1. 0. 1. 0. 0. 0. 0. 0. 1.]\n",
      " [0. 0. 1. 0. 0. 0. 0. 0. 0. 0.]\n",
      " [0. 1. 0. 1. 0. 0. 0. 0. 0. 1.]\n",
      " [0. 0. 0. 0. 1. 0. 1. 1. 0. 0.]\n",
      " [1. 0. 0. 0. 0. 1. 0. 0. 1. 0.]\n",
      " [0. 0. 0. 0. 1. 0. 1. 1. 0. 0.]\n",
      " [0. 0. 0. 0. 1. 0. 1. 1. 0. 0.]\n",
      " [1. 0. 0. 0. 0. 1. 0. 0. 1. 0.]\n",
      " [0. 1. 0. 1. 0. 0. 0. 0. 0. 1.]]\n"
     ]
    },
    {
     "data": {
      "text/plain": [
       "<matplotlib.image.AxesImage at 0x1df00d4e820>"
      ]
     },
     "execution_count": 123,
     "metadata": {},
     "output_type": "execute_result"
    },
    {
     "data": {
      "image/png": "[encoded data removed]",
      "text/plain": [
       "<Figure size 432x288 with 1 Axes>"
      ]
     },
     "metadata": {
      "needs_background": "light"
     },
     "output_type": "display_data"
    }
   ],
   "source": [
    "plt.imshow(M_m)\n",
    "print(np.sort(indices)[:10])\n",
    "print(M_m[:10, :10])\n",
    "print(labels[:10])\n",
    "print(connectivity[:10, :10])\n",
    "plt.imshow(M_m[:10, :10])\n",
    "\n"
   ]
  },
  {
   "cell_type": "code",
   "execution_count": 126,
   "id": "composite-edwards",
   "metadata": {
    "scrolled": true
   },
   "outputs": [
    {
     "name": "stdout",
     "output_type": "stream",
     "text": [
      "[[  1   1]\n",
      " [  1   2]\n",
      " [  1   3]\n",
      " ...\n",
      " [800 798]\n",
      " [800 799]\n",
      " [800 800]]\n"
     ]
    }
   ],
   "source": [
    "print(np.argwhere(J_m == 1))"
   ]
  },
  {
   "cell_type": "code",
   "execution_count": null,
   "id": "solid-backup",
   "metadata": {},
   "outputs": [],
   "source": []
  }
 ],
 "metadata": {
  "kernelspec": {
   "display_name": "Python 3",
   "language": "python",
   "name": "python3"
  },
  "language_info": {
   "codemirror_mode": {
    "name": "ipython",
    "version": 3
   },
   "file_extension": ".py",
   "mimetype": "text/x-python",
   "name": "python",
   "nbconvert_exporter": "python",
   "pygments_lexer": "ipython3",
   "version": "3.8.7"
  }
 },
 "nbformat": 4,
 "nbformat_minor": 5
}
