{
 "cells": [
  {
   "cell_type": "code",
   "execution_count": 5,
   "id": "sorted-nevada",
   "metadata": {},
   "outputs": [],
   "source": [
    "import numpy as np\n",
    "import random\n",
    "from scipy.stats import multivariate_normal\n",
    "from matplotlib import pyplot as plt\n",
    "import sklearn\n",
    "import pandas as pd"
   ]
  },
  {
   "cell_type": "code",
   "execution_count": 42,
   "id": "structural-madrid",
   "metadata": {},
   "outputs": [],
   "source": [
    "# Load UCI breast cancer dataset with column names and remove ID column\n",
    "uci_bc_data = pd.read_csv(\n",
    "    \"https://archive.ics.uci.edu/ml/machine-learning-databases/breast-cancer-wisconsin/wdbc.data\", \n",
    "    sep=\",\",\n",
    "    header=None,\n",
    "    names=[\n",
    "        \"id_number\", \"diagnosis\", \"radius_mean\",\n",
    "        \"texture_mean\", \"perimeter_mean\", \"area_mean\",\n",
    "        \"smoothness_mean\", \"compactness_mean\",\n",
    "        \"concavity_mean\",\"concave_points_mean\",\n",
    "        \"symmetry_mean\", \"fractal_dimension_mean\",\n",
    "        \"radius_se\", \"texture_se\", \"perimeter_se\",\n",
    "        \"area_se\", \"smoothness_se\", \"compactness_se\",\n",
    "        \"concavity_se\", \"concave_points_se\",\n",
    "        \"symmetry_se\", \"fractal_dimension_se\",\n",
    "        \"radius_worst\", \"texture_worst\",\n",
    "        \"perimeter_worst\", \"area_worst\",\n",
    "        \"smoothness_worst\", \"compactness_worst\",\n",
    "        \"concavity_worst\", \"concave_points_worst\",\n",
    "        \"symmetry_worst\", \"fractal_dimension_worst\"\n",
    "    ],).drop(\"id_number\", axis=1)\n",
    "\n",
    "y = uci_bc_data.diagnosis.map({\"B\": 0, \"M\": 1}).to_numpy()\n",
    "X = uci_bc_data.drop(\"diagnosis\", axis=1).to_numpy()\n",
    "\n",
    "verbose = 0\n",
    "if verbose:\n",
    "    for i in range(31):\n",
    "        print('Feature {} in range {}:{}'.format(i, np.amin(X[:,i]), np.amax(X[:,i])))\n",
    "\n",
    "    print(len(np.argwhere(y == 0)))\n",
    "    print(len(np.argwhere(y == 1)))\n"
   ]
  },
  {
   "cell_type": "markdown",
   "id": "removed-appraisal",
   "metadata": {},
   "source": [
    "### Data information\n",
    "The features are numerical. There are 569 samples with 30 features. The classes are binary (0 or 1). \n",
    "\n",
    "Highly varying scales (feature 9 is in range (0.001, 0.02), while feature 23 is in range (185, 4254)) -> should be scaled and centered.\n",
    "\n",
    "Slightly imbalanced -> 357 0s and 212 1s.\n",
    "\n",
    "### Rescale and center"
   ]
  },
  {
   "cell_type": "code",
   "execution_count": 88,
   "id": "southwest-albany",
   "metadata": {},
   "outputs": [],
   "source": [
    "Xmax = np.amax(X,0)\n",
    "Xmin = np.amin(X,0)\n",
    "Xmean = np.mean(X,0)\n",
    "Xnew = (X-Xmin)/(Xmax - Xmin)*2 - 1\n",
    "\n",
    "verbose = 0\n",
    "if verbose:\n",
    "    for i in range(31):\n",
    "        print('Feature {} in range {}:{}'.format(i, np.amin(Xnew[:,i]), np.amax(Xnew[:,i])))\n"
   ]
  },
  {
   "cell_type": "code",
   "execution_count": 140,
   "id": "utility-agreement",
   "metadata": {},
   "outputs": [],
   "source": [
    "df = pd.DataFrame(Xnew)\n",
    "correlation_matrix = np.array(df.corr())\n",
    "verbose = 0\n",
    "if verbose:\n",
    "    corr = df.corr()\n",
    "    plt.matshow(df.corr())\n",
    "    plt.show()\n"
   ]
  },
  {
   "cell_type": "markdown",
   "id": "mounted-gallery",
   "metadata": {},
   "source": [
    "### Correlation\n",
    "Some of the features are highly correlated. The reason for this is biological, as features like radius, perimeter, and area must be highly correlated. "
   ]
  },
  {
   "cell_type": "code",
   "execution_count": 142,
   "id": "effective-intervention",
   "metadata": {},
   "outputs": [
    {
     "name": "stdout",
     "output_type": "stream",
     "text": [
      "Ground correlation matrix:\n"
     ]
    },
    {
     "data": {
      "image/png": "[encoded data removed]",
      "text/plain": [
       "<Figure size 288x288 with 1 Axes>"
      ]
     },
     "metadata": {
      "needs_background": "light"
     },
     "output_type": "display_data"
    },
    {
     "name": "stdout",
     "output_type": "stream",
     "text": [
      "Estimated correlation matrix for class label 0:\n"
     ]
    },
    {
     "data": {
      "image/png": "[encoded data removed]",
      "text/plain": [
       "<Figure size 288x288 with 1 Axes>"
      ]
     },
     "metadata": {
      "needs_background": "light"
     },
     "output_type": "display_data"
    },
    {
     "name": "stdout",
     "output_type": "stream",
     "text": [
      "Estimated correlation matrix for class label 1:\n"
     ]
    },
    {
     "data": {
      "image/png": "[encoded data removed]",
      "text/plain": [
       "<Figure size 288x288 with 1 Axes>"
      ]
     },
     "metadata": {
      "needs_background": "light"
     },
     "output_type": "display_data"
    }
   ],
   "source": [
    "from sklearn.discriminant_analysis import QuadraticDiscriminantAnalysis\n",
    "\n",
    "clf = QuadraticDiscriminantAnalysis(store_covariance = True)\n",
    "clf.fit(X,y)\n",
    "covariance_est = clf.covariance_\n",
    "correlation_est_0 = get_correlation_matrix(clf.covariance_[0])\n",
    "correlation_est_1 = get_correlation_matrix(clf.covariance_[1])\n",
    "print('Ground correlation matrix:')\n",
    "plt.matshow(correlation_matrix[:10,:10])\n",
    "plt.show()\n",
    "print('Estimated correlation matrix for class label 0:')\n",
    "plt.matshow(correlation_est_0[:10,:10])\n",
    "plt.show()\n",
    "print('Estimated correlation matrix for class label 1:')\n",
    "plt.matshow(correlation_est_1[:10,:10])\n",
    "plt.show()\n",
    "\n",
    "\n",
    "def get_correlation_matrix(cov_matrix):\n",
    "    diag = np.diag(cov_matrix)\n",
    "    diag = np.sqrt(1/diag)\n",
    "    D = np.diag(diag)\n",
    "    correlation_matrix = D@cov_matrix@D\n",
    "    return correlation_matrix"
   ]
  },
  {
   "cell_type": "code",
   "execution_count": 196,
   "id": "supposed-optimum",
   "metadata": {},
   "outputs": [],
   "source": [
    "indices = list(range(len(y)))\n",
    "random.shuffle(indices)\n",
    "split_index = int(0.8*len(y))\n",
    "train_indices = indices[:split_index]\n",
    "test_indices = indices[split_index:]\n",
    "X_train = X[train_indices]\n",
    "y_train = y[train_indices]\n",
    "X_test = X[test_indices]\n",
    "y_test = y[test_indices]"
   ]
  },
  {
   "cell_type": "code",
   "execution_count": 197,
   "id": "included-biodiversity",
   "metadata": {},
   "outputs": [],
   "source": [
    "fit = QuadraticDiscriminantAnalysis(store_covariance = True)\n",
    "fit.fit(X_train,y_train)\n",
    "y_pred = fit.predict(X_test)"
   ]
  },
  {
   "cell_type": "code",
   "execution_count": 201,
   "id": "generous-agency",
   "metadata": {
    "scrolled": true
   },
   "outputs": [
    {
     "name": "stdout",
     "output_type": "stream",
     "text": [
      "Accuracy is 0.93.\n",
      "Recall is 0.91.\n",
      "Specificity is 0.94.\n",
      "Precision is 0.91.\n",
      "F1 is 0.91.\n",
      "MCC is 0.85.\n"
     ]
    }
   ],
   "source": [
    "TP = np.sum(np.logical_and(y_pred, y_test))\n",
    "TN = np.sum(np.logical_and(y_pred == 0, y_test == 0))\n",
    "FP = np.sum(np.logical_and(y_pred, y_test == 0))\n",
    "FN = np.sum(np.logical_and(y_pred == 0, y_test))\n",
    "\n",
    "T = TP+TN+FP+FN\n",
    "TP = TP/T\n",
    "TN = TN/T\n",
    "FP = FP/T\n",
    "FN = FN/T\n",
    "T = 1\n",
    "\n",
    "\n",
    "accuracy = (TP + TN)/T\n",
    "recall = (TP)/(TP+FN)\n",
    "specificity = TN/(TN+FP)\n",
    "precision = TP/(TP + FP)\n",
    "F1 = 2*precision*recall/(precision + recall)\n",
    "MCC = (TP*TN - FP*FN)/(np.sqrt((TP+FP)*(TP+FN)*(TN+FP)*(TN+FN)))\n",
    "\n",
    "print('Accuracy is {:.2f}.'.format(accuracy))\n",
    "print('Recall is {:.2f}.'.format(recall))\n",
    "print('Specificity is {:.2f}.'.format(specificity))\n",
    "print('Precision is {:.2f}.'.format(precision))\n",
    "print('F1 is {:.2f}.'.format(F1))\n",
    "print('MCC is {:.2f}.'.format(MCC))"
   ]
  },
  {
   "cell_type": "markdown",
   "id": "becoming-continuity",
   "metadata": {},
   "source": [
    "### Metric choice\n",
    "Recall is a good classification metric, as it is more important to detect positives than negatives."
   ]
  },
  {
   "cell_type": "code",
   "execution_count": null,
   "id": "interstate-constitution",
   "metadata": {},
   "outputs": [],
   "source": []
  }
 ],
 "metadata": {
  "kernelspec": {
   "display_name": "Python 3",
   "language": "python",
   "name": "python3"
  },
  "language_info": {
   "codemirror_mode": {
    "name": "ipython",
    "version": 3
   },
   "file_extension": ".py",
   "mimetype": "text/x-python",
   "name": "python",
   "nbconvert_exporter": "python",
   "pygments_lexer": "ipython3",
   "version": "3.7.4"
  }
 },
 "nbformat": 4,
 "nbformat_minor": 5
}
