{
 "cells": [
  {
   "cell_type": "code",
   "execution_count": 47,
   "id": "instructional-assistant",
   "metadata": {},
   "outputs": [],
   "source": [
    "import numpy as np\n",
    "import random\n",
    "from scipy.stats import multivariate_normal\n",
    "from matplotlib import pyplot as plt"
   ]
  },
  {
   "cell_type": "code",
   "execution_count": 26,
   "id": "regular-contents",
   "metadata": {},
   "outputs": [],
   "source": [
    "def generate_pi_range(K, n):\n",
    "    cuts = np.zeros(K-1)\n",
    "    for i in range(K-1):\n",
    "        cuts[i] = random.randrange(0, n)\n",
    "    pi_range = np.sort(cuts)\n",
    "    pi_range = np.append(pi_range,n)\n",
    "    for i in range(K-1,0, -1):\n",
    "        pi_range[i] = int(pi_range[i] - pi_range[i-1])\n",
    "    pi_range = [int(x) for x in pi_range]\n",
    "    return pi_range"
   ]
  },
  {
   "cell_type": "code",
   "execution_count": 85,
   "id": "successful-professional",
   "metadata": {},
   "outputs": [],
   "source": [
    "K = 5\n",
    "p = 20\n",
    "n = 100000\n",
    "mu_interval = [-5, 5]\n",
    "cov_interval = [-2, 2]\n",
    "\n",
    "pi_range = generate_pi_range(K,n)\n",
    "pi = [x/sum(pi_range) for x in pi_range]\n",
    "\n",
    "sigma = np.random.random((K, p, p))*(cov_interval[1] - cov_interval[0])+cov_interval[0]\n",
    "for i in range(K):\n",
    "    sigma_i = sigma[i]\n",
    "    sigma[i] = np.dot(sigma_i,sigma_i.transpose())\n",
    "\n",
    "mu = np.random.random((K,p))*(mu_interval[1] - mu_interval[0]) + mu_interval[0]\n",
    "data = []\n",
    "data = np.zeros((n,p))\n",
    "\n",
    "for i in range(K):\n",
    "    mu_i = mu[i,:]\n",
    "    sigma_i = sigma[i,:,:]\n",
    "    rv = multivariate_normal(mean = mu_i, cov = sigma_i)\n",
    "    start_index = sum(pi_range[:i])\n",
    "    stop_index = sum(pi_range[:i+1])\n",
    "    generated_data = np.array(rv.rvs(size = pi_range[i]))\n",
    "    data[start_index:stop_index] = generated_data\n",
    "\n"
   ]
  },
  {
   "cell_type": "code",
   "execution_count": 87,
   "id": "southern-canyon",
   "metadata": {},
   "outputs": [
    {
     "name": "stdout",
     "output_type": "stream",
     "text": [
      "[37603, 7044, 16267, 17399, 21687]\n",
      "[0.37603, 0.07044, 0.16267, 0.17399, 0.21687]\n"
     ]
    }
   ],
   "source": []
  },
  {
   "cell_type": "code",
   "execution_count": 60,
   "id": "swedish-pressing",
   "metadata": {},
   "outputs": [
    {
     "name": "stdout",
     "output_type": "stream",
     "text": [
      "[[[1.92467118]]]\n",
      "[[1.57704064]]\n"
     ]
    }
   ],
   "source": [
    "print(sigma)\n",
    "print(mu)"
   ]
  },
  {
   "cell_type": "code",
   "execution_count": 95,
   "id": "unable-vulnerability",
   "metadata": {},
   "outputs": [
    {
     "name": "stdout",
     "output_type": "stream",
     "text": [
      "(100000, 5)\n"
     ]
    }
   ],
   "source": [
    "y_temp = np.zeros((n,K))\n",
    "\n",
    "for i in range(K):\n",
    "    mu_i = mu[i,:]\n",
    "    sigma_i = sigma[i,:,:]\n",
    "    rv = multivariate_normal.pdf(data, mean = mu_i, cov = sigma_i)\n",
    "    y_temp[:,i] = rv\n",
    "print(y_temp.shape)\n",
    "print()"
   ]
  },
  {
   "cell_type": "code",
   "execution_count": 42,
   "id": "certified-seventh",
   "metadata": {},
   "outputs": [
    {
     "name": "stdout",
     "output_type": "stream",
     "text": [
      "[1, 1]\n"
     ]
    }
   ],
   "source": []
  },
  {
   "cell_type": "code",
   "execution_count": null,
   "id": "white-insight",
   "metadata": {},
   "outputs": [],
   "source": []
  }
 ],
 "metadata": {
  "kernelspec": {
   "display_name": "Python 3",
   "language": "python",
   "name": "python3"
  },
  "language_info": {
   "codemirror_mode": {
    "name": "ipython",
    "version": 3
   },
   "file_extension": ".py",
   "mimetype": "text/x-python",
   "name": "python",
   "nbconvert_exporter": "python",
   "pygments_lexer": "ipython3",
   "version": "3.9.4"
  }
 },
 "nbformat": 4,
 "nbformat_minor": 5
}
