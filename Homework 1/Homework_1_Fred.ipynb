{
 "cells": [
  {
   "cell_type": "code",
   "execution_count": 47,
   "id": "instructional-assistant",
   "metadata": {},
   "outputs": [],
   "source": [
    "import numpy as np\n",
    "import random\n",
    "from scipy.stats import multivariate_normal\n",
    "from matplotlib import pyplot as plt"
   ]
  },
  {
   "cell_type": "code",
   "execution_count": 26,
   "id": "regular-contents",
   "metadata": {},
   "outputs": [],
   "source": [
    "def generate_pi_range(K, n):\n",
    "    cuts = np.zeros(K-1)\n",
    "    for i in range(K-1):\n",
    "        cuts[i] = random.randrange(0, n)\n",
    "    pi_range = np.sort(cuts)\n",
    "    pi_range = np.append(pi_range,n)\n",
    "    for i in range(K-1,0, -1):\n",
    "        pi_range[i] = int(pi_range[i] - pi_range[i-1])\n",
    "    pi_range = [int(x) for x in pi_range]\n",
    "    return pi_range"
   ]
  },
  {
   "cell_type": "code",
   "execution_count": 85,
   "id": "successful-professional",
   "metadata": {},
   "outputs": [],
   "source": [
    "K = 5\n",
    "p = 20\n",
    "n = 100000\n",
    "mu_interval = [-5, 5]\n",
    "cov_interval = [-2, 2]\n",
    "\n",
    "pi_range = generate_pi_range(K,n)\n",
    "pi = [x/sum(pi_range) for x in pi_range]\n",
    "\n",
    "sigma = np.random.random((K, p, p))*(cov_interval[1] - cov_interval[0])+cov_interval[0]\n",
    "for i in range(K):\n",
    "    sigma_i = sigma[i]\n",
    "    sigma[i] = np.dot(sigma_i,sigma_i.transpose())\n",
    "\n",
    "mu = np.random.random((K,p))*(mu_interval[1] - mu_interval[0]) + mu_interval[0]\n",
    "data = []\n",
    "data = np.zeros((n,p))\n",
    "\n",
    "for i in range(K):\n",
    "    mu_i = mu[i,:]\n",
    "    sigma_i = sigma[i,:,:]\n",
    "    rv = multivariate_normal(mean = mu_i, cov = sigma_i)\n",
    "    start_index = sum(pi_range[:i])\n",
    "    stop_index = sum(pi_range[:i+1])\n",
    "    generated_data = np.array(rv.rvs(size = pi_range[i]))\n",
    "    data[start_index:stop_index] = generated_data\n",
    "\n"
   ]
  },
  {
   "cell_type": "code",
   "execution_count": 87,
   "id": "southern-canyon",
   "metadata": {},
   "outputs": [
    {
     "name": "stdout",
     "output_type": "stream",
     "text": [
      "[37603, 7044, 16267, 17399, 21687]\n",
      "[0.37603, 0.07044, 0.16267, 0.17399, 0.21687]\n"
     ]
    }
   ],
   "source": []
  },
  {
   "cell_type": "code",
   "execution_count": 60,
   "id": "swedish-pressing",
   "metadata": {},
   "outputs": [
    {
     "name": "stdout",
     "output_type": "stream",
     "text": [
      "[[[1.92467118]]]\n",
      "[[1.57704064]]\n"
     ]
    }
   ],
   "source": [
    "print(sigma)\n",
    "print(mu)"
   ]
  },
  {
   "cell_type": "code",
   "execution_count": 95,
   "id": "unable-vulnerability",
   "metadata": {},
   "outputs": [
    {
     "name": "stdout",
     "output_type": "stream",
     "text": [
      "(100000, 5)\n"
     ]
    }
   ],
   "source": [
    "y_temp = np.zeros((n,K))\n",
    "\n",
    "for i in range(K):\n",
    "    mu_i = mu[i,:]\n",
    "    sigma_i = sigma[i,:,:]\n",
    "    rv = multivariate_normal.pdf(data, mean = mu_i, cov = sigma_i)\n",
    "    y_temp[:,i] = rv\n",
    "print(y_temp.shape)\n",
    "print()"
   ]
  },
  {
   "cell_type": "code",
   "execution_count": 42,
   "id": "certified-seventh",
   "metadata": {},
   "outputs": [
    {
     "name": "stdout",
     "output_type": "stream",
     "text": [
      "[1, 1]\n"
     ]
    }
   ],
   "source": []
  },
  {
   "cell_type": "code",
   "execution_count": null,
   "id": "white-insight",
   "metadata": {},
   "outputs": [],
   "source": []
  },
  {
   "cell_type": "code",
   "execution_count": 3,
   "id": "1b92b34c",
   "metadata": {},
   "outputs": [],
   "source": [
    "import numpy as np\n",
    "import random\n",
    "from scipy.stats import multivariate_normal\n",
    "from matplotlib import pyplot as plt"
   ]
  },
  {
   "cell_type": "code",
   "execution_count": 4,
   "id": "a95ca2d2",
   "metadata": {},
   "outputs": [],
   "source": [
    "def generate_pi_range(K, n):\n",
    "    cuts = np.zeros(K-1)\n",
    "    for i in range(K-1):\n",
    "        cuts[i] = random.randrange(0, n)\n",
    "    pi_range = np.sort(cuts)\n",
    "    pi_range = np.append(pi_range,n)\n",
    "    for i in range(K-1,0, -1):\n",
    "        pi_range[i] = int(pi_range[i] - pi_range[i-1])\n",
    "    pi_range = [int(x) for x in pi_range]\n",
    "    return pi_range"
   ]
  },
  {
   "cell_type": "code",
   "execution_count": 790,
   "id": "b6360b35",
   "metadata": {},
   "outputs": [],
   "source": [
    "def split(limits):\n",
    "    p = limits.shape[0]\n",
    "    feat = int(random.randrange(0,p))\n",
    "    place = np.random.random(1)*(limits[feat,0] - limits[feat,1])+ limits[feat,1]\n",
    "    \n",
    "    new_limits_high = np.copy(limits)\n",
    "    new_limits_high[feat,0] = place\n",
    "    \n",
    "    new_limits_low = np.copy(limits)\n",
    "    new_limits_low[feat,1] = place\n",
    "    \n",
    "    size_low = 1\n",
    "    size_high = 1\n",
    "    for i in range(p):\n",
    "        size_low = size_low*(new_limits_low[i,1] - new_limits_low[i,0])\n",
    "        size_high = size_high*(new_limits_high[i,1] - new_limits_high[i,0])\n",
    "    \n",
    "    return new_limits_low, new_limits_high, feat, place, size_low, size_high\n",
    "    "
   ]
  },
  {
   "cell_type": "code",
   "execution_count": 799,
   "id": "68057d68",
   "metadata": {},
   "outputs": [
    {
     "name": "stdout",
     "output_type": "stream",
     "text": [
      "[27.86555768  5.79695824 63.4263858   3.3127771  18.77236693 53.15501153\n",
      " 13.2776483   1.73871368  1.28797909  3.28376311  4.08283855]\n",
      "100000\n",
      "[14217.1212631   2957.63175367 32360.40091672  1690.19239611\n",
      "  9577.7382301  27119.90384085  6774.310356     887.09881826\n",
      "   657.13218967  1675.38934343  2083.0808921 ]\n"
     ]
    },
    {
     "data": {
      "image/png": "[encoded data removed]",
      "text/plain": [
       "<Figure size 432x288 with 1 Axes>"
      ]
     },
     "metadata": {
      "needs_background": "light"
     },
     "output_type": "display_data"
    }
   ],
   "source": [
    "K = 3\n",
    "p = 2\n",
    "n = 100000\n",
    "interval = [-7.0, 7.0]\n",
    "intervals = np.array([interval for i in range(p)])\n",
    "\n",
    "nr_splits = 10\n",
    "splits = np.zeros((nr_splits,2))\n",
    "\n",
    "\n",
    "\n",
    "\n",
    "all_limits = np.zeros((nr_splits + 1, p, 2))\n",
    "all_limits[0,:,:] = intervals\n",
    "\n",
    "sizes = np.zeros(nr_splits + 1)\n",
    "\n",
    "pointer = 1\n",
    "\n",
    "for i in range(nr_splits):\n",
    "    j = int(random.randrange(0,pointer))\n",
    "    base = all_limits[j,:,:]\n",
    "    \n",
    "    new_limits_low, new_limits_high, feat, place, size_low, size_high = split(base)\n",
    "    splits[i,0] = place\n",
    "    splits[i,1] = feat\n",
    "\n",
    "    \n",
    "    all_limits[j,:,:] = new_limits_low\n",
    "    sizes[j] = size_low\n",
    "    \n",
    "    all_limits[pointer,:,:] = new_limits_high\n",
    "    sizes[pointer] = size_high\n",
    "    pointer += 1\n",
    "\n",
    "    \n",
    "    \n",
    "split_ranges = np.ones(nr_splits + 1) * (n / (nr_splits+1))\n",
    "\n",
    "print(sizes)\n",
    "\n",
    "split_ranges = np.multiply(split_ranges, sizes)\n",
    "\n",
    "split_ranges = split_ranges * (n/sum(split_ranges))\n",
    "sum(split_ranges)\n",
    "print(n)\n",
    "print(split_ranges)\n",
    "\n",
    "\n",
    "\n",
    "data = np.zeros((n,p))\n",
    "classes = np.zeros((n,1))\n",
    "\n",
    "data_pointer = 0\n",
    "for k in range(nr_splits + 1):\n",
    "    c = int(random.randrange(0,K+1))\n",
    "\n",
    "    for i in range(int(split_ranges[k])+1):\n",
    "        pnt = np.random.random(p)*(all_limits[k,:,0] - all_limits[k,:,1])+ all_limits[k,:,1]\n",
    "        data[data_pointer + i,:] = pnt\n",
    "        classes[data_pointer + i] = c\n",
    "        \n",
    "    data_pointer += int(split_ranges[k])\n",
    "\n",
    "        \n",
    "\n",
    "if(p == 2):\n",
    "    \"\"\"\n",
    "    for i in range(nr_splits):\n",
    "        if(int(splits[i,1]) == 0):\n",
    "            splitlines = [np.ones(n)*splits[i][0], np.linspace(interval[0], interval[1], n)]\n",
    "        else:\n",
    "            splitlines = [np.linspace(interval[0], interval[1], n), np.ones(n)*splits[i][0]]\n",
    "            \n",
    "        plt.plot(splitlines[0], splitlines[1], color = 'black')\n",
    "    \"\"\"\n",
    "    \n",
    "\n",
    "    \n",
    "    for i in range(K+1):\n",
    "        indexes = np.argwhere(classes == i)[:,0]\n",
    "        plt.plot(data[indexes,0], data[indexes,1],'.') \n",
    "        \n",
    "    \n",
    "    plt.xlim(interval)\n",
    "    plt.ylim(interval)"
   ]
  },
  {
   "cell_type": "code",
   "execution_count": null,
   "id": "a5925131",
   "metadata": {},
   "outputs": [],
   "source": []
  },
  {
   "cell_type": "code",
   "execution_count": null,
   "id": "7ce3debb",
   "metadata": {},
   "outputs": [],
   "source": []
  },
  {
   "cell_type": "code",
   "execution_count": 524,
   "id": "4ec55eed",
   "metadata": {},
   "outputs": [
    {
     "name": "stdout",
     "output_type": "stream",
     "text": [
      "5\n",
      "[[-6.79644684  0.        ]\n",
      " [ 1.83162555  2.        ]\n",
      " [-0.89991092  4.        ]]\n"
     ]
    }
   ],
   "source": [
    "K = 4\n",
    "p = 5\n",
    "n = 10000\n",
    "interval = [-7.0, 7.0]\n",
    "intervals = np.array([interval for i in range(p)])\n",
    "print(intervals.shape[0])\n",
    "\n",
    "\n",
    "nr_splits = 3\n",
    "splits = np.zeros((nr_splits,2))\n",
    "data = np.zeros((n,p))\n",
    "classes = np.zeros((n,1))\n",
    "\n",
    "for i in range(n):\n",
    "    data[i,:] = np.random.random(p)*(intervals[:,0] - intervals[:,1])+ intervals[:,1]\n",
    "\n",
    "\n",
    "coloured = np.zeros((n,1))\n",
    "\n",
    "for i in range(nr_splits):\n",
    "    feat = int(random.randrange(0,p))\n",
    "    place = np.random.random(1)*(intervals[feat,0] - intervals[feat,1])+ intervals[feat,1]\n",
    "    splits[i,0] = place\n",
    "    splits[i,1] = feat\n",
    "\n",
    "splits\n",
    "    \n",
    "    \n",
    "for i in range(nr_splits):    \n",
    "    c = int(random.randrange(0,K+1))\n",
    "    side = int(random.randrange(0,2))\n",
    "    place = splits[i,0]\n",
    "    feat = int(splits[i,1])\n",
    "    \n",
    "    #side = 1 => the area above the curve is filled with points\n",
    "    if side == 1:\n",
    "        pnts = np.argwhere(data[:,feat] >= place)[:,0]\n",
    "    elif side == 0:\n",
    "        pnts = np.argwhere(data[:,feat] < place)[:,0]\n",
    "          \n",
    "    for j in pnts:\n",
    "        if(coloured[j] == 0):\n",
    "            classes[j] = c\n",
    "            coloured[j] = 1\n",
    "\n",
    "            \n",
    "            \n",
    "print(splits)\n",
    "        \n",
    "\n",
    "\n",
    "\n",
    "if(p == 2):\n",
    "    for i in range(nr_splits):\n",
    "        if(int(splits[i,1]) == 0):\n",
    "            splitlines = [np.ones(n)*splits[i][0], np.linspace(interval[0], interval[1], n)]\n",
    "        else:\n",
    "            splitlines = [np.linspace(interval[0], interval[1], n), np.ones(n)*splits[i][0]]\n",
    "            \n",
    "        plt.plot(splitlines[0], splitlines[1], color = 'black')\n",
    "\n",
    "    \n",
    "    #plt.plot(data[:,0], data[:,1], '.')\n",
    "    \n",
    "    for i in range(K+1):\n",
    "        indexes = np.argwhere(classes == i)[:,0]\n",
    "        plt.plot(data[indexes,0], data[indexes,1],'.') \n",
    "        \n",
    "    \n",
    "    plt.xlim(interval)\n",
    "    plt.ylim(interval)\n",
    "  "
   ]
  },
  {
   "cell_type": "code",
   "execution_count": null,
   "id": "11e2e6f8",
   "metadata": {},
   "outputs": [],
   "source": []
  },
  {
   "cell_type": "code",
   "execution_count": null,
   "id": "e224f2dc",
   "metadata": {},
   "outputs": [],
   "source": []
  }
 ],
 "metadata": {
  "kernelspec": {
   "display_name": "Python 3",
   "language": "python",
   "name": "python3"
  },
  "language_info": {
   "codemirror_mode": {
    "name": "ipython",
    "version": 3
   },
   "file_extension": ".py",
   "mimetype": "text/x-python",
   "name": "python",
   "nbconvert_exporter": "python",
   "pygments_lexer": "ipython3",
   "version": "3.8.7"
  }
 },
 "nbformat": 4,
 "nbformat_minor": 5
}
