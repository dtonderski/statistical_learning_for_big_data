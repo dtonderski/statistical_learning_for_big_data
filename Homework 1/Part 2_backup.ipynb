{
 "cells": [
  {
   "cell_type": "code",
   "execution_count": 1,
   "id": "sorted-nevada",
   "metadata": {},
   "outputs": [],
   "source": [
    "import numpy as np\n",
    "import random\n",
    "from scipy.stats import multivariate_normal\n",
    "from matplotlib import pyplot as plt\n",
    "import sklearn\n",
    "import pandas as pd\n",
    "from sklearn.ensemble import RandomForestClassifier\n"
   ]
  },
  {
   "cell_type": "markdown",
   "id": "single-process",
   "metadata": {},
   "source": [
    "### Data information\n",
    "The features are numerical. There are 569 samples with 30 features. The classes are binary (0 or 1). \n",
    "\n",
    "Highly varying scales (feature 9 is in range (0.001, 0.02), while feature 23 is in range (185, 4254)) -> should be scaled and centered.\n",
    "\n",
    "Slightly imbalanced -> 357 0s and 212 1s."
   ]
  },
  {
   "cell_type": "code",
   "execution_count": 2,
   "id": "structural-madrid",
   "metadata": {},
   "outputs": [],
   "source": [
    "# Load UCI breast cancer dataset with column names and remove ID column\n",
    "uci_bc_data = pd.read_csv(\n",
    "    \"https://archive.ics.uci.edu/ml/machine-learning-databases/breast-cancer-wisconsin/wdbc.data\", \n",
    "    sep=\",\",\n",
    "    header=None,\n",
    "    names=[\n",
    "        \"id_number\", \"diagnosis\", \"radius_mean\",\n",
    "        \"texture_mean\", \"perimeter_mean\", \"area_mean\",\n",
    "        \"smoothness_mean\", \"compactness_mean\",\n",
    "        \"concavity_mean\",\"concave_points_mean\",\n",
    "        \"symmetry_mean\", \"fractal_dimension_mean\",\n",
    "        \"radius_se\", \"texture_se\", \"perimeter_se\",\n",
    "        \"area_se\", \"smoothness_se\", \"compactness_se\",\n",
    "        \"concavity_se\", \"concave_points_se\",\n",
    "        \"symmetry_se\", \"fractal_dimension_se\",\n",
    "        \"radius_worst\", \"texture_worst\",\n",
    "        \"perimeter_worst\", \"area_worst\",\n",
    "        \"smoothness_worst\", \"compactness_worst\",\n",
    "        \"concavity_worst\", \"concave_points_worst\",\n",
    "        \"symmetry_worst\", \"fractal_dimension_worst\"\n",
    "    ],).drop(\"id_number\", axis=1)\n",
    "\n",
    "y = uci_bc_data.diagnosis.map({\"B\": 0, \"M\": 1}).to_numpy()\n",
    "X = uci_bc_data.drop(\"diagnosis\", axis=1).to_numpy()\n",
    "\n",
    "verbose = 0\n",
    "if verbose:\n",
    "    for i in range(31):\n",
    "        print('Feature {} in range {}:{}'.format(i, np.amin(X[:,i]), np.amax(X[:,i])))\n",
    "\n",
    "    print(len(np.argwhere(y == 0)))\n",
    "    print(len(np.argwhere(y == 1)))\n"
   ]
  },
  {
   "cell_type": "markdown",
   "id": "threaded-trauma",
   "metadata": {},
   "source": [
    "### Rescale and center"
   ]
  },
  {
   "cell_type": "code",
   "execution_count": 3,
   "id": "southwest-albany",
   "metadata": {},
   "outputs": [],
   "source": [
    "Xmax = np.amax(X,0)\n",
    "Xmin = np.amin(X,0)\n",
    "Xnew = (X-Xmin)/(Xmax - Xmin)*2 - 1\n",
    "\n",
    "verbose = 0\n",
    "if verbose:\n",
    "    for i in range(31):\n",
    "        print('Feature {} in range {}:{}'.format(i, np.amin(Xnew[:,i]), np.amax(Xnew[:,i])))\n"
   ]
  },
  {
   "cell_type": "code",
   "execution_count": 4,
   "id": "utility-agreement",
   "metadata": {},
   "outputs": [
    {
     "data": {
      "image/png": "[encoded data removed]",
      "text/plain": [
       "<Figure size 288x288 with 2 Axes>"
      ]
     },
     "metadata": {
      "needs_background": "light"
     },
     "output_type": "display_data"
    }
   ],
   "source": [
    "df = pd.DataFrame(Xnew)\n",
    "correlation_matrix = np.array(df.corr())\n",
    "verbose = 1\n",
    "if verbose:\n",
    "    corr = df.corr()\n",
    "    plt.matshow(df.corr())\n",
    "    plt.colorbar()\n",
    "    plt.show()\n",
    "    \n"
   ]
  },
  {
   "cell_type": "markdown",
   "id": "mounted-gallery",
   "metadata": {},
   "source": [
    "### Correlation\n",
    "Some of the features are highly correlated. The reason for this is biological, as features like radius, perimeter, and area must be highly correlated. "
   ]
  },
  {
   "cell_type": "code",
   "execution_count": 5,
   "id": "effective-intervention",
   "metadata": {
    "scrolled": true
   },
   "outputs": [
    {
     "name": "stdout",
     "output_type": "stream",
     "text": [
      "Ground correlation matrix:\n"
     ]
    },
    {
     "data": {
      "image/png": "[encoded data removed]",
      "text/plain": [
       "<Figure size 288x288 with 1 Axes>"
      ]
     },
     "metadata": {
      "needs_background": "light"
     },
     "output_type": "display_data"
    },
    {
     "name": "stdout",
     "output_type": "stream",
     "text": [
      "Estimated correlation matrix for class label 0:\n"
     ]
    },
    {
     "data": {
      "image/png": "[encoded data removed]",
      "text/plain": [
       "<Figure size 288x288 with 1 Axes>"
      ]
     },
     "metadata": {
      "needs_background": "light"
     },
     "output_type": "display_data"
    },
    {
     "name": "stdout",
     "output_type": "stream",
     "text": [
      "Estimated correlation matrix for class label 1:\n"
     ]
    },
    {
     "data": {
      "image/png": "[encoded data removed]",
      "text/plain": [
       "<Figure size 288x288 with 1 Axes>"
      ]
     },
     "metadata": {
      "needs_background": "light"
     },
     "output_type": "display_data"
    }
   ],
   "source": [
    "def get_correlation_matrix(cov_matrix):\n",
    "    diag = np.diag(cov_matrix)\n",
    "    diag = np.sqrt(1/diag)\n",
    "    D = np.diag(diag)\n",
    "    correlation_matrix = D@cov_matrix@D\n",
    "    return correlation_matrix\n",
    "\n",
    "from sklearn.discriminant_analysis import QuadraticDiscriminantAnalysis\n",
    "\n",
    "clf = QuadraticDiscriminantAnalysis(store_covariance = True)\n",
    "clf.fit(X,y)\n",
    "covariance_est = clf.covariance_\n",
    "correlation_est_0 = get_correlation_matrix(clf.covariance_[0])\n",
    "correlation_est_1 = get_correlation_matrix(clf.covariance_[1])\n",
    "print('Ground correlation matrix:')\n",
    "plt.matshow(correlation_matrix[:10,:10])\n",
    "plt.show()\n",
    "print('Estimated correlation matrix for class label 0:')\n",
    "plt.matshow(correlation_est_0[:10,:10])\n",
    "plt.show()\n",
    "print('Estimated correlation matrix for class label 1:')\n",
    "plt.matshow(correlation_est_1[:10,:10])\n",
    "plt.show()\n",
    "\n",
    "\n"
   ]
  },
  {
   "cell_type": "markdown",
   "id": "numerical-award",
   "metadata": {},
   "source": [
    "### Split data"
   ]
  },
  {
   "cell_type": "code",
   "execution_count": 6,
   "id": "supposed-optimum",
   "metadata": {},
   "outputs": [],
   "source": [
    "def split_data(X,y):\n",
    "    indices = list(range(len(y)))\n",
    "    random.shuffle(indices)\n",
    "    split_index = int(0.8*len(y))\n",
    "    train_indices = indices[:split_index]\n",
    "    test_indices = indices[split_index:]\n",
    "    X_train = X[train_indices]\n",
    "    y_train = y[train_indices]\n",
    "    X_test = X[test_indices]\n",
    "    y_test = y[test_indices]\n",
    "    return X_train, y_train, X_test, y_test"
   ]
  },
  {
   "cell_type": "markdown",
   "id": "laden-people",
   "metadata": {},
   "source": [
    "### Metric choice\n",
    "Recall is a good classification metric, as it is more important to detect positives than negatives."
   ]
  },
  {
   "cell_type": "code",
   "execution_count": 7,
   "id": "generous-agency",
   "metadata": {
    "scrolled": true
   },
   "outputs": [],
   "source": [
    "def get_operating_characteristics(y_pred, y, verbose = 0):\n",
    "    TP = np.sum(np.logical_and(y_pred, y))\n",
    "    TN = np.sum(np.logical_and(y_pred == 0, y == 0))\n",
    "    FP = np.sum(np.logical_and(y_pred, y == 0))\n",
    "    FN = np.sum(np.logical_and(y_pred == 0, y))\n",
    "\n",
    "    Tot = TP+TN+FP+FN\n",
    "    TP = TP/Tot\n",
    "    TN = TN/Tot\n",
    "    FP = FP/Tot\n",
    "    FN = FN/Tot\n",
    "    T = 1\n",
    "\n",
    "\n",
    "    accuracy = (TP + TN)/T\n",
    "    recall = (TP)/(TP+FN)\n",
    "    specificity = TN/(TN+FP)\n",
    "    precision = TP/(TP + FP)\n",
    "    F1 = 2*precision*recall/(precision + recall)\n",
    "    MCC = (TP*TN - FP*FN)/(np.sqrt((TP+FP)*(TP+FN)*(TN+FP)*(TN+FN)))\n",
    "    \n",
    "    if verbose:\n",
    "        print('Accuracy is {:.2f}.'.format(accuracy))\n",
    "        print('Recall is {:.2f}.'.format(recall))\n",
    "        print('Specificity is {:.2f}.'.format(specificity))\n",
    "        print('Precision is {:.2f}.'.format(precision))\n",
    "        print('F1 is {:.2f}.'.format(F1))\n",
    "        print('MCC is {:.2f}.'.format(MCC))\n",
    "    return accuracy,recall, specificity, precision, F1, MCC\n"
   ]
  },
  {
   "cell_type": "markdown",
   "id": "promising-chancellor",
   "metadata": {},
   "source": [
    "### Train and evaluate QDA and random forest"
   ]
  },
  {
   "cell_type": "code",
   "execution_count": 8,
   "id": "administrative-telephone",
   "metadata": {},
   "outputs": [],
   "source": [
    "def evaluate_model(model_constructor, X, y, n_runs, split_data_function):\n",
    "    accuracy_array = np.zeros(n_runs)\n",
    "    recall_array = np.zeros(n_runs)\n",
    "    specificity_array = np.zeros(n_runs)\n",
    "    precision_array = np.zeros(n_runs)\n",
    "    F1_array = np.zeros(n_runs)\n",
    "    MCC_array = np.zeros(n_runs)\n",
    "    for i in range(n_runs):\n",
    "        X_train, y_train, X_test, y_test = split_data_function(X,y)\n",
    "        fit = model_constructor()\n",
    "        fit.fit(X_train,y_train)\n",
    "        y_pred = fit.predict(X_test)\n",
    "        accuracy,recall, specificity, precision, F1, MCC = get_operating_characteristics(y_pred, y_test)\n",
    "        accuracy_array[i] = accuracy\n",
    "        recall_array[i] = recall\n",
    "        specificity_array[i] = specificity\n",
    "        precision_array[i] = precision\n",
    "        F1_array[i] = F1\n",
    "        MCC_array[i] = MCC\n",
    "    return accuracy_array, recall_array, specificity_array, precision_array, F1_array, MCC_array"
   ]
  },
  {
   "cell_type": "code",
   "execution_count": 9,
   "id": "according-brooks",
   "metadata": {
    "scrolled": true
   },
   "outputs": [
    {
     "name": "stdout",
     "output_type": "stream",
     "text": [
      "QDA (50 runs):\n",
      "Average accuracy: 0.94, standard deviation: 0.0387.\n",
      "Average recall: 0.95, standard deviation: 0.0308.\n",
      "Average F1: 0.95, standard deviation: 0.0230.\n",
      "\n",
      "Random forest (50 runs):\n",
      "Average accuracy: 0.95, standard deviation: 0.0364.\n",
      "Average recall: 0.94, standard deviation: 0.0318.\n",
      "Average F1: 0.95, standard deviation: 0.0268.\n"
     ]
    }
   ],
   "source": [
    "n_runs = 50\n",
    "accuracy_array, recall_array, specificity_array, precision_array, F1_array, MCC_array = evaluate_model(QuadraticDiscriminantAnalysis, X,y, n_runs, split_data) \n",
    "\n",
    "print('QDA ({} runs):'.format(n_runs))\n",
    "print('Average accuracy: {:.2f}, standard deviation: {:.4f}.'.format(np.mean(precision_array), np.std(precision_array)))\n",
    "print('Average recall: {:.2f}, standard deviation: {:.4f}.'.format(np.mean(recall_array), np.std(recall_array)))\n",
    "print('Average F1: {:.2f}, standard deviation: {:.4f}.\\n'.format(np.mean(F1_array), np.std(F1_array)))\n",
    "\n",
    "accuracy_array, recall_array, specificity_array, precision_array, F1_array, MCC_array = evaluate_model(RandomForestClassifier, X,y, n_runs, split_data) \n",
    "\n",
    "print('Random forest ({} runs):'.format(n_runs))\n",
    "print('Average accuracy: {:.2f}, standard deviation: {:.4f}.'.format(np.mean(precision_array), np.std(precision_array)))\n",
    "print('Average recall: {:.2f}, standard deviation: {:.4f}.'.format(np.mean(recall_array), np.std(recall_array)))\n",
    "print('Average F1: {:.2f}, standard deviation: {:.4f}.'.format(np.mean(F1_array), np.std(F1_array)))"
   ]
  },
  {
   "cell_type": "markdown",
   "id": "diagnostic-phone",
   "metadata": {},
   "source": [
    "### Test stratification"
   ]
  },
  {
   "cell_type": "code",
   "execution_count": 10,
   "id": "rapid-finding",
   "metadata": {},
   "outputs": [],
   "source": [
    "def split_data_stratification(X,y):\n",
    "    n_0 = len(np.argwhere(y == 0))\n",
    "    n_1 = len(np.argwhere(y == 1))\n",
    "\n",
    "    indices = np.array(range(len(y)))\n",
    "    random.shuffle(indices)\n",
    "    indices_0 = indices[[int(x) for x in list(np.argwhere(y == 0))]]\n",
    "    indices_1 = indices[[int(x) for x in list(np.argwhere(y == 1))]]\n",
    "\n",
    "    split_index_0 = int(n_0*0.8)\n",
    "    train_indices_0 = indices_0[:split_index_0]\n",
    "    test_indices_0 = indices_0[split_index_0:]\n",
    "\n",
    "    split_index_1 = int(n_1*0.8)\n",
    "    train_indices_1 = indices_1[:split_index_1]\n",
    "    test_indices_1 = indices_1[split_index_1:]\n",
    "\n",
    "    X_train = X[np.append(train_indices_0, train_indices_1)]\n",
    "    y_train = y[np.append(train_indices_0, train_indices_1)]\n",
    "\n",
    "    X_test = X[np.append(test_indices_0, test_indices_1)]\n",
    "    y_test = y[np.append(test_indices_0, test_indices_1)]\n",
    "    \n",
    "    return X_train, y_train, X_test, y_test"
   ]
  },
  {
   "cell_type": "code",
   "execution_count": 11,
   "id": "falling-quick",
   "metadata": {},
   "outputs": [
    {
     "name": "stdout",
     "output_type": "stream",
     "text": [
      "QDA (50 runs):\n",
      "Average accuracy: 0.94, standard deviation: 0.0334.\n",
      "Average recall: 0.94, standard deviation: 0.0281.\n",
      "Average F1: 0.94, standard deviation: 0.0248.\n",
      "\n",
      "Random forest (50 runs):\n",
      "Average accuracy: 0.96, standard deviation: 0.0251.\n",
      "Average recall: 0.93, standard deviation: 0.0383.\n",
      "Average F1: 0.94, standard deviation: 0.0248.\n"
     ]
    }
   ],
   "source": [
    "n_runs = 50\n",
    "accuracy_array, recall_array, specificity_array, precision_array, F1_array, MCC_array = evaluate_model(QuadraticDiscriminantAnalysis, X,y, n_runs, split_data_stratification) \n",
    "\n",
    "print('QDA ({} runs):'.format(n_runs))\n",
    "print('Average accuracy: {:.2f}, standard deviation: {:.4f}.'.format(np.mean(precision_array), np.std(precision_array)))\n",
    "print('Average recall: {:.2f}, standard deviation: {:.4f}.'.format(np.mean(recall_array), np.std(recall_array)))\n",
    "print('Average F1: {:.2f}, standard deviation: {:.4f}.\\n'.format(np.mean(F1_array), np.std(F1_array)))\n",
    "\n",
    "accuracy_array, recall_array, specificity_array, precision_array, F1_array, MCC_array = evaluate_model(RandomForestClassifier, X,y, n_runs, split_data_stratification) \n",
    "\n",
    "print('Random forest ({} runs):'.format(n_runs))\n",
    "print('Average accuracy: {:.2f}, standard deviation: {:.4f}.'.format(np.mean(precision_array), np.std(precision_array)))\n",
    "print('Average recall: {:.2f}, standard deviation: {:.4f}.'.format(np.mean(recall_array), np.std(recall_array)))\n",
    "print('Average F1: {:.2f}, standard deviation: {:.4f}.'.format(np.mean(F1_array), np.std(F1_array)))"
   ]
  },
  {
   "cell_type": "markdown",
   "id": "patent-arbor",
   "metadata": {},
   "source": [
    "### Question 5"
   ]
  },
  {
   "cell_type": "code",
   "execution_count": 12,
   "id": "mighty-sarah",
   "metadata": {},
   "outputs": [],
   "source": [
    "def split_data_p(X, y, p):\n",
    "    n_0 = len(np.argwhere(y == 0))\n",
    "    n_1 = len(np.argwhere(y == 1))\n",
    "\n",
    "    indices = np.array(range(len(y)))\n",
    "    random.shuffle(indices)\n",
    "    indices_0 = indices[[int(x) for x in list(np.argwhere(y == 0))]]\n",
    "    indices_1 = indices[[int(x) for x in list(np.argwhere(y == 1))]]\n",
    "\n",
    "    split_index_0 = int(n_0*0.8)\n",
    "    train_indices_0 = indices_0[:split_index_0]\n",
    "    test_indices_0 = indices_0[split_index_0:]\n",
    "\n",
    "    split_index_1 = int(n_1*0.8)\n",
    "    train_indices_1 = indices_1[:split_index_1]\n",
    "    test_indices_1 = indices_1[split_index_1:]\n",
    "\n",
    "    X_train = X[np.append(train_indices_0, train_indices_1)]\n",
    "    y_train = y[np.append(train_indices_0, train_indices_1)]\n",
    "\n",
    "    X_test = X[np.append(test_indices_0, test_indices_1)]\n",
    "    y_test = y[np.append(test_indices_0, test_indices_1)]\n",
    "        \n",
    "    if p > 0:\n",
    "        indices_to_flip = np.random.choice(list(range(len(y_train))), size = int(p*len(y_train)), replace = False)\n",
    "        y_train[indices_to_flip] = 1 - y_train[indices_to_flip]\n",
    "    \n",
    "    return X_train, y_train, X_test, y_test\n",
    "\n",
    "def get_recall(y_pred, y):\n",
    "    TP = np.sum(np.logical_and(y_pred, y))\n",
    "    FN = np.sum(np.logical_and(y_pred == 0, y))\n",
    "\n",
    "    TP = TP\n",
    "    FN = FN\n",
    "\n",
    "    recall = (TP)/(TP+FN)\n",
    "    return recall\n",
    "\n",
    "def evaluate_model_recall(model_constructor, X, y, n_runs, split_data_function):\n",
    "    recall_array = np.zeros(n_runs)\n",
    "    for i in range(n_runs):\n",
    "        X_train, y_train, X_test, y_test = split_data_function(X,y)\n",
    "        fit = model_constructor()\n",
    "        fit.fit(X_train,y_train)\n",
    "        y_pred = fit.predict(X_test)\n",
    "        recall = get_recall(y_pred, y_test)\n",
    "        recall_array[i] = recall\n",
    "    return recall_array"
   ]
  },
  {
   "cell_type": "code",
   "execution_count": 15,
   "id": "radio-crystal",
   "metadata": {},
   "outputs": [],
   "source": [
    "p_array = np.linspace(0,1,50)\n",
    "n_runs = 200\n",
    "recall_mean_array = np.zeros(len(p_array))\n",
    "recall_std_array = np.zeros(len(p_array))\n",
    "\n",
    "for i,p in enumerate(p_array):\n",
    "    split_data_curr = lambda X,y: split_data_p(X,y,p)\n",
    "    recall_array = evaluate_model_recall(QuadraticDiscriminantAnalysis, X,y, n_runs, split_data_curr)\n",
    "    recall_mean_array[i] = np.mean(recall_array)\n",
    "    recall_std_array[i] = np.std(recall_array)\n"
   ]
  },
  {
   "cell_type": "code",
   "execution_count": 30,
   "id": "desirable-closer",
   "metadata": {},
   "outputs": [
    {
     "data": {
      "image/png": "[encoded data removed]",
      "text/plain": [
       "<Figure size 720x288 with 1 Axes>"
      ]
     },
     "metadata": {
      "needs_background": "light"
     },
     "output_type": "display_data"
    }
   ],
   "source": [
    "font = 15\n",
    "plt.rc('font', size=font) #controls default text size\n",
    "plt.rc('axes', titlesize=font) #fontsize of the title\n",
    "plt.rc('axes', labelsize=font) #fontsize of the x and y labels\n",
    "plt.rc('xtick', labelsize=font) #fontsize of the x tick labels\n",
    "plt.rc('ytick', labelsize=font) #fontsize of the y tick labels\n",
    "plt.rc('legend', fontsize=font) #fontsize of the legend\n",
    "plt.figure(figsize = (10,4))\n",
    "plt.plot(p_array, recall_mean_array)\n",
    "plt.plot(p_array, recall_std_array)\n",
    "plt.grid()\n",
    "\n",
    "plt.xlabel('p')\n",
    "plt.legend(['Mean','Standard deviation'])\n",
    "plt.title('Recall')\n",
    "plt.show()"
   ]
  },
  {
   "cell_type": "code",
   "execution_count": null,
   "id": "environmental-party",
   "metadata": {},
   "outputs": [],
   "source": []
  },
  {
   "cell_type": "code",
   "execution_count": null,
   "id": "geological-algeria",
   "metadata": {},
   "outputs": [],
   "source": []
  }
 ],
 "metadata": {
  "kernelspec": {
   "display_name": "Python 3",
   "language": "python",
   "name": "python3"
  },
  "language_info": {
   "codemirror_mode": {
    "name": "ipython",
    "version": 3
   },
   "file_extension": ".py",
   "mimetype": "text/x-python",
   "name": "python",
   "nbconvert_exporter": "python",
   "pygments_lexer": "ipython3",
   "version": "3.8.7"
  }
 },
 "nbformat": 4,
 "nbformat_minor": 5
}
